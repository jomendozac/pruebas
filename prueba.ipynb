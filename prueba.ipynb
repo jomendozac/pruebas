{
  "nbformat": 4,
  "nbformat_minor": 0,
  "metadata": {
    "colab": {
      "provenance": [],
      "toc_visible": true,
      "authorship_tag": "ABX9TyPB3/bJuhM6V88vnj4gHXbA",
      "include_colab_link": true
    },
    "kernelspec": {
      "name": "python3",
      "display_name": "Python 3"
    },
    "language_info": {
      "name": "python"
    }
  },
  "cells": [
    {
      "cell_type": "markdown",
      "metadata": {
        "id": "view-in-github",
        "colab_type": "text"
      },
      "source": [
        "<a href=\"https://colab.research.google.com/github/jomendozac/pruebas/blob/main/prueba.ipynb\" target=\"_parent\"><img src=\"https://colab.research.google.com/assets/colab-badge.svg\" alt=\"Open In Colab\"/></a>"
      ]
    },
    {
      "cell_type": "markdown",
      "source": [
        "#Esto es un subtitulo\n"
      ],
      "metadata": {
        "id": "YlpF94n5VNrj"
      }
    },
    {
      "cell_type": "markdown",
      "source": [
        "#esto es otro subtitulo\n"
      ],
      "metadata": {
        "id": "EvWrmgNYVp4D"
      }
    },
    {
      "cell_type": "markdown",
      "source": [
        "**hola mundo**"
      ],
      "metadata": {
        "id": "32MNdsQAVwUi"
      }
    },
    {
      "cell_type": "code",
      "source": [
        "print(\"hola mundo\")"
      ],
      "metadata": {
        "colab": {
          "base_uri": "https://localhost:8080/"
        },
        "id": "QLLCc0yDV9I8",
        "outputId": "634c452a-793f-4e06-cd53-4c031a9544a7"
      },
      "execution_count": null,
      "outputs": [
        {
          "output_type": "stream",
          "name": "stdout",
          "text": [
            "hola mundo\n"
          ]
        }
      ]
    },
    {
      "cell_type": "code",
      "source": [],
      "metadata": {
        "id": "LCtPeXI2WH9K"
      },
      "execution_count": null,
      "outputs": []
    },
    {
      "cell_type": "markdown",
      "source": [
        "hola q ace\n"
      ],
      "metadata": {
        "id": "EWu7W_rNWMuD"
      }
    },
    {
      "cell_type": "markdown",
      "source": [],
      "metadata": {
        "id": "6Q6_68w0WO3U"
      }
    },
    {
      "cell_type": "code",
      "source": [
        "print(\"holamundo\")\n",
        "\n",
        "()"
      ],
      "metadata": {
        "id": "nGyCRBIaWVWc"
      },
      "execution_count": null,
      "outputs": []
    },
    {
      "cell_type": "markdown",
      "source": [
        "con # y ## hago la jerarquia de titulos q se queda en el indice"
      ],
      "metadata": {
        "id": "QGVo8tHtZLuI"
      }
    },
    {
      "cell_type": "markdown",
      "source": [
        "fork es como indexar o seguir un repositorio p\n",
        "\n",
        "de collab puedo guardar archivos en github en mis repositorios y desde repositorios de github puedo abrir archivos en collab"
      ],
      "metadata": {
        "id": "KLpXrLYUZVzO"
      }
    },
    {
      "cell_type": "markdown",
      "source": [],
      "metadata": {
        "id": "Qn2de3zXbRYf"
      }
    }
  ]
}